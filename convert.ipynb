{
 "cells": [
  {
   "cell_type": "code",
   "execution_count": 1,
   "id": "73712820-d85b-42e6-9146-74b48746ec81",
   "metadata": {},
   "outputs": [],
   "source": [
    "%load_ext lab_black\n",
    "%load_ext pycodestyle_magic\n",
    "%flake8_on --ignore E501"
   ]
  },
  {
   "cell_type": "code",
   "execution_count": 2,
   "id": "f0894a41-63cd-4d4b-8a82-7b99c7ca3826",
   "metadata": {},
   "outputs": [],
   "source": [
    "#\n",
    "# read the data from the URL and print it\n",
    "#\n",
    "from pyperclip import copy\n",
    "from re import sub, search, I, S, M\n",
    "\n",
    "day = 10\n",
    "year = 2023\n",
    "# import urllib.request\n",
    "\n",
    "# open a connection to a URL using urllib\n",
    "# webUrl  = urllib.request.urlopen('https://www.youtube.com/user/guru99com')\n",
    "\n",
    "# get the result code and print it\n",
    "# print (\"result code: \" + str(webUrl.getcode()))\n",
    "\n",
    "# read the data from the URL and print it\n",
    "# data = webUrl.read()\n",
    "# print (data)\n",
    "\n",
    "result = []\n",
    "\n",
    "\n",
    "def get_markdown(year, day):\n",
    "    code = open(\"conv_input.txt\").read()\n",
    "    temp = search(r'<main>(.*?)<p class=\"day-success\">', code, flags=I | S | M)\n",
    "    temp = temp[0]\n",
    "    temp = sub(\n",
    "        r\"<a href=\\\"(https?://.*?)\\\".*?>(.*?)</a>\",\n",
    "        r\"[\\2](\\1)\",\n",
    "        temp,\n",
    "        flags=I | S | M,\n",
    "    )\n",
    "    temp = sub(\n",
    "        r\"<a href=\\\"(.*?)\\\".*?>(.*?)</a>\",\n",
    "        r\"[\\2](https://adventofcode.com\\1)\",\n",
    "        temp,\n",
    "        flags=I | S | M,\n",
    "    )\n",
    "    temp = sub(r\"<([a-z][a-z0-9]*)[^>]*?(/?)>\", r\"<\\1\\2>\", temp, flags=I | S | M)\n",
    "    temp = sub(r\"<h2>(.*?)</h2>\", r\"## \\1\\n\\n\", temp, flags=I | S | M)\n",
    "    temp = sub(\n",
    "        r\"<pre><code>(.*?)\\n?</code></pre>\",\n",
    "        r\"```\\n\\1\\n```\\n\",\n",
    "        temp,\n",
    "        flags=I | S | M,\n",
    "    )\n",
    "    temp = sub(r\"<code>(.*?)</code>\", r\"`\\1`\", temp, flags=I | S | M)\n",
    "    temp = sub(r\"<em>(.*?)</em>\", r\"**\\1**\", temp, flags=I | S | M)\n",
    "    temp = sub(r\"<p>(.*?)</p>\", r\"\\1\\n\", temp, flags=I | S | M)\n",
    "    temp = sub(r\"(?:<ul>)?<li>(.*?)</li>(?:</ul>)?\", r\" - \\1\", temp, flags=I | S | M)\n",
    "    temp = sub(r\"<article>\", r\"\\n\", temp, flags=I | S | M)\n",
    "    temp = sub(r\"<.*?>\", r\"\", temp, flags=I | S | M)\n",
    "    temp = sub(r\"`\\*\\*(.*?)\\*\\*`\", r\"**`\\1`**\", temp, flags=I | S | M)\n",
    "    temp = sub(\n",
    "        r\"^##(.*?)\\n(.*?##.*?$)\",\n",
    "        r\"# \\1\\n\\n[\\[Index\\]](../../index.ipynb) [\\[Repository\\]](https://github.com/saberzero1/advent-of-code) [\\[Advent of Code Page\\]](https://adventofcode.com/{y}/day/{d})\\n\\n## --- Part One ---\\n\\2\".format(\n",
    "            y=year, d=day\n",
    "        ),\n",
    "        temp,\n",
    "        flags=I | S | M,\n",
    "    )\n",
    "    temp = sub(r\"\\n{3,}\", r\"\\n\\n\", temp, flags=I | S | M)\n",
    "    copy(temp)\n",
    "    return temp\n",
    "    # days = findall(r\"\")\n",
    "    # for day in temp:\n",
    "    #    print(day.group(\"day\"))\n",
    "\n",
    "\n",
    "def header(text):\n",
    "    res = sub(r\"^(.*?)##.*\", r\"\\1\", text, flags=I | S | M)\n",
    "    res = sub(r\"^\\n\\n(.*?)\\n\\n$\", r\"\\1\", res, flags=I | S | M)\n",
    "    copy(res)\n",
    "\n",
    "\n",
    "def part1(text):\n",
    "    res = sub(\n",
    "        r\"^.*?(##.*?Your puzzle answer was `.*?`.).*?--- Part Two ---.*\",\n",
    "        r\"\\1\",\n",
    "        text,\n",
    "        flags=I | S | M,\n",
    "    )\n",
    "    copy(res)\n",
    "\n",
    "\n",
    "def part2(text):\n",
    "    res = sub(r\"^.*?##.*?(##.*)$\", r\"\\1\", text, flags=I | S | M)\n",
    "    copy(res)\n",
    "\n",
    "\n",
    "result = get_markdown(year, day)"
   ]
  },
  {
   "cell_type": "code",
   "execution_count": 6,
   "id": "a888555e-3dda-4aa8-9d6f-6038db9533c1",
   "metadata": {},
   "outputs": [],
   "source": [
    "header(result)"
   ]
  },
  {
   "cell_type": "code",
   "execution_count": 7,
   "id": "74ea5d66-4343-43d0-85a5-b35d14351d85",
   "metadata": {},
   "outputs": [],
   "source": [
    "part1(result)"
   ]
  },
  {
   "cell_type": "code",
   "execution_count": 8,
   "id": "aa234177-4985-4e84-bafb-2b0171b7cd1b",
   "metadata": {},
   "outputs": [],
   "source": [
    "part2(result)"
   ]
  },
  {
   "cell_type": "code",
   "execution_count": null,
   "id": "fa93fa5d-8c4f-4520-a104-d82d5769805e",
   "metadata": {},
   "outputs": [],
   "source": []
  },
  {
   "cell_type": "code",
   "execution_count": null,
   "id": "bc08fe6d-29be-434d-8828-a2babad43235",
   "metadata": {},
   "outputs": [],
   "source": []
  }
 ],
 "metadata": {
  "kernelspec": {
   "display_name": "Python 3 (ipykernel)",
   "language": "python",
   "name": "python3"
  },
  "language_info": {
   "codemirror_mode": {
    "name": "ipython",
    "version": 3
   },
   "file_extension": ".py",
   "mimetype": "text/x-python",
   "name": "python",
   "nbconvert_exporter": "python",
   "pygments_lexer": "ipython3",
   "version": "3.8.10"
  }
 },
 "nbformat": 4,
 "nbformat_minor": 5
}
