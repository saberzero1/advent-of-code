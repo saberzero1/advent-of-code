{
 "cells": [
  {
   "cell_type": "markdown",
   "id": "960cd00d-d3e1-48f7-9723-d4d13194e759",
   "metadata": {},
   "source": [
    "# Day 1: Trebuchet?!\n",
    "\n",
    "[https://adventofcode.com/2023/day/1](https://adventofcode.com/2023/day/1)\n",
    "\n"
   ]
  },
  {
   "cell_type": "markdown",
   "id": "e79ca65f-48f0-4b12-b37a-8482a68998c2",
   "metadata": {},
   "source": [
    "## Description\n",
    "\n",
    "### Part One\n",
    "\n",
    "Something is wrong with global snow production, and you've been selected to take a look. The Elves have even given you a map; on it, they've used stars to mark the top fifty locations that are likely to be having problems.\n",
    "\n",
    "You've been doing this long enough to know that to restore snow operations, you need to check all **fifty stars** by December 25th.\n",
    "\n",
    "Collect stars by solving puzzles. Two puzzles will be made available on each day in the Advent calendar; the second puzzle is unlocked when you complete the first. Each puzzle grants **one star**. Good luck!\n",
    "\n",
    "You try to ask why they can't just use a [weather machine](https://adventofcode.com/2015/day/1) (\"not powerful enough\") and where they're even sending you (\"the sky\") and why your map looks mostly blank (\"you sure ask a lot of questions\") and hang on did you just say the sky (\"of course, where do you think snow comes from\") when you realize that the Elves are already loading you into a [trebuchet](https://en.wikipedia.org/wiki/Trebuchet) (\"please hold still, we need to strap you in\").\n",
    "\n",
    "As they're making the final adjustments, they discover that their calibration document (your puzzle input) has been **amended** by a very young Elf who was apparently just excited to show off her art skills. Consequently, the Elves are having trouble reading the values on the document.\n",
    "\n",
    "The newly-improved calibration document consists of lines of text; each line originally contained a specific **calibration** value that the Elves now need to recover. On each line, the calibration value can be found by combining the **first digit** and the **last digit** (in that order) to form a single **two-digit number**.\n",
    "\n",
    "For example:\n",
    "\n",
    "```\n",
    "1abc2\n",
    "pqr3stu8vwx\n",
    "a1b2c3d4e5f\n",
    "treb7uchet\n",
    "```\n",
    "In this example, the calibration values of these four lines are `12`, `38`, `15`, and `77`. Adding these together produces `142`.\n",
    "\n",
    "Consider your entire calibration document. **What is the sum of all of the calibration values?**"
   ]
  },
  {
   "cell_type": "code",
   "execution_count": 1,
   "id": "1bbbda5a-0550-41ad-919e-fe016616cc16",
   "metadata": {},
   "outputs": [
    {
     "name": "stdout",
     "output_type": "stream",
     "text": [
      "53386\n"
     ]
    }
   ],
   "source": [
    "input = open('day.01.input.txt', 'r').readlines()\n",
    "\n",
    "result = 0\n",
    "for line in input:\n",
    "  digits = []\n",
    "  for i,c in enumerate(line):\n",
    "    if c.isdigit():\n",
    "      digits.append(c)\n",
    "  result += int(digits[0]+digits[-1])\n",
    "print(result)"
   ]
  },
  {
   "cell_type": "markdown",
   "id": "540735dc-2afb-4c89-b4f9-c802863b983a",
   "metadata": {},
   "source": [
    "### Part Two\n",
    "\n",
    "Your calculation isn't quite right. It looks like some of the digits are actually spelled out with letters: `one`, `two`, `three`, `four`, `five`, `six`, `seven`, `eight`, and `nine` **also** count as valid \"digits\".\n",
    "\n",
    "Equipped with this new information, you now need to find the real first and last digit on each line. For example:\n",
    "\n",
    "```\n",
    "two1nine\n",
    "eightwothree\n",
    "abcone2threexyz\n",
    "xtwone3four\n",
    "4nineeightseven2\n",
    "zoneight234\n",
    "7pqrstsixteen\n",
    "```\n",
    "In this example, the calibration values are `29`, `83`, `13`, `24`, `42`, `14`, and `76`. Adding these together produces `281`.\n",
    "\n",
    "**What is the sum of all of the calibration values?**"
   ]
  },
  {
   "cell_type": "code",
   "execution_count": 2,
   "id": "574191ba-885d-4deb-b67f-d4e647ebea5b",
   "metadata": {},
   "outputs": [
    {
     "name": "stdout",
     "output_type": "stream",
     "text": [
      "53312\n"
     ]
    }
   ],
   "source": [
    "result = 0\n",
    "for line in input:\n",
    "  digits = []\n",
    "  for i,c in enumerate(line):\n",
    "    if c.isdigit():\n",
    "      digits.append(c)\n",
    "    for d,val in enumerate(['one', 'two', 'three', 'four', 'five', 'six', 'seven', 'eight', 'nine']):\n",
    "      if line[i:].startswith(val):\n",
    "        digits.append(str(d+1))\n",
    "  result += int(digits[0]+digits[-1])\n",
    "print(result)"
   ]
  }
 ],
 "metadata": {
  "kernelspec": {
   "display_name": "Python 3 (ipykernel)",
   "language": "python",
   "name": "python3"
  },
  "language_info": {
   "codemirror_mode": {
    "name": "ipython",
    "version": 3
   },
   "file_extension": ".py",
   "mimetype": "text/x-python",
   "name": "python",
   "nbconvert_exporter": "python",
   "pygments_lexer": "ipython3",
   "version": "3.8.10"
  }
 },
 "nbformat": 4,
 "nbformat_minor": 5
}
