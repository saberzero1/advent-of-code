{
 "cells": [
  {
   "cell_type": "markdown",
   "id": "865bcdcb-a584-4132-a379-02bc8910a080",
   "metadata": {},
   "source": [
    "# --- Day 2: Cube Conundrum ---\n",
    "\n",
    "[\\[Index\\]](../../index.ipynb) [\\[Repository\\]](https://github.com/saberzero1/advent-of-code) [\\[Advent of Code Page\\]](https://adventofcode.com/2023/day/2)"
   ]
  },
  {
   "cell_type": "markdown",
   "id": "00750d99-fa3b-4e0e-b1a9-988c9f118fe7",
   "metadata": {},
   "source": [
    "## --- Part One ---\n",
    "\n",
    "You're launched high into the atmosphere! The apex of your trajectory just barely reaches the surface of a large island floating in the sky. You gently land in a fluffy pile of leaves. It's quite cold, but you don't see much snow. An Elf runs over to greet you.\n",
    "\n",
    "The Elf explains that you've arrived at **Snow Island** and apologizes for the lack of snow. He'll be happy to explain the situation, but it's a bit of a walk, so you have some time. They don't get many visitors up here; would you like to play a game in the meantime?\n",
    "\n",
    "As you walk, the Elf shows you a small bag and some cubes which are either red, green, or blue. Each time you play this game, he will hide a secret number of cubes of each color in the bag, and your goal is to figure out information about the number of cubes.\n",
    "\n",
    "To get information, once a bag has been loaded with cubes, the Elf will reach into the bag, grab a handful of random cubes, show them to you, and then put them back in the bag. He'll do this a few times per game.\n",
    "\n",
    "You play several games and record the information from each game (your puzzle input). Each game is listed with its ID number (like the `11` in `Game 11: ...`) followed by a semicolon-separated list of subsets of cubes that were revealed from the bag (like `3 red, 5 green, 4 blue`).\n",
    "\n",
    "For example, the record of a few games might look like this:\n",
    "\n",
    "Game 1: 3 blue, 4 red; 1 red, 2 green, 6 blue; 2 green<br>\n",
    "Game 2: 1 blue, 2 green; 3 green, 4 blue, 1 red; 1 green, 1 blue<br>\n",
    "Game 3: 8 green, 6 blue, 20 red; 5 blue, 4 red, 13 green; 5 green, 1 red<br>\n",
    "Game 4: 1 green, 3 red, 6 blue; 3 green, 6 red; 3 green, 15 blue, 14 red<br>\n",
    "Game 5: 6 red, 1 blue, 3 green; 2 blue, 1 red, 2 green\n",
    "\n",
    "In game 1, three sets of cubes are revealed from the bag (and then put back again). The first set is 3 blue cubes and 4 red cubes; the second set is 1 red cube, 2 green cubes, and 6 blue cubes; the third set is only 2 green cubes.\n",
    "\n",
    "The Elf would first like to know which games would have been possible if the bag contained **only 12 red cubes, 13 green cubes, and 14 blue cubes**?\n",
    "\n",
    "In the example above, games 1, 2, and 5 would have been **possible** if the bag had been loaded with that configuration. However, game 3 would have been **impossible** because at one point the Elf showed you 20 red cubes at once; similarly, game 4 would also have been **impossible** because the Elf showed you 15 blue cubes at once. If you add up the IDs of the games that would have been possible, you get **`8`**.\n",
    "\n",
    "Determine which games would have been possible if the bag had been loaded with only 12 red cubes, 13 green cubes, and 14 blue cubes. **What is the sum of the IDs of those games?**\n",
    "\n",
    "Your puzzle answer was `2377`."
   ]
  },
  {
   "cell_type": "code",
   "execution_count": 1,
   "id": "8e22a0db-8886-483a-a674-294729334676",
   "metadata": {},
   "outputs": [
    {
     "name": "stdout",
     "output_type": "stream",
     "text": [
      "2377\n"
     ]
    }
   ],
   "source": [
    "from re import findall\n",
    "from collections import defaultdict\n",
    "\n",
    "input = open('input/2.txt', 'r').readlines()\n",
    "\n",
    "result = 0\n",
    "\n",
    "capacity = defaultdict(int, {'red': 12, 'green': 13, 'blue': 14})\n",
    "\n",
    "for line in input:\n",
    "  legal = True\n",
    "  cubes = defaultdict(int)\n",
    "  game = int(line.split(' ')[1][:-1])\n",
    "  for number, color in findall(r'(\\d+) (\\w+)', line):\n",
    "    cubes[color] = max(cubes[color], int(number))\n",
    "  for key in cubes:\n",
    "    if cubes[key] > capacity[key]:\n",
    "      legal = False\n",
    "  if legal:\n",
    "    result += game\n",
    "\n",
    "print(result)"
   ]
  },
  {
   "cell_type": "markdown",
   "id": "dd2b0deb-a0b0-4f6a-a329-1ffdb808ce93",
   "metadata": {},
   "source": [
    "## --- Part Two ---\n",
    "\n",
    "The Elf says they've stopped producing snow because they aren't getting any **water**! He isn't sure why the water stopped; however, he can show you how to get to the water source to check it out for yourself. It's just up ahead!\n",
    "\n",
    "As you continue your walk, the Elf poses a second question: in each game you played, **what is the fewest number of cubes of each color** that could have been in the bag to make the game possible?\n",
    "\n",
    "Again consider the example games from earlier:\n",
    "\n",
    "Game 1: 3 blue, 4 red; 1 red, 2 green, 6 blue; 2 green<br>\n",
    "Game 2: 1 blue, 2 green; 3 green, 4 blue, 1 red; 1 green, 1 blue<br>\n",
    "Game 3: 8 green, 6 blue, 20 red; 5 blue, 4 red, 13 green; 5 green, 1 red<br>\n",
    "Game 4: 1 green, 3 red, 6 blue; 3 green, 6 red; 3 green, 15 blue, 14 red<br>\n",
    "Game 5: 6 red, 1 blue, 3 green; 2 blue, 1 red, 2 green\n",
    "\n",
    " - In game 1, the game could have been played with as few as 4 red, 2 green, and 6 blue cubes. If any color had even one fewer cube, the game would have been impossible.\n",
    " - Game 2 could have been played with a minimum of 1 red, 3 green, and 4 blue cubes.\n",
    " - Game 3 must have been played with at least 20 red, 13 green, and 6 blue cubes.\n",
    " - Game 4 required at least 14 red, 3 green, and 15 blue cubes.\n",
    " - Game 5 needed no fewer than 6 red, 3 green, and 2 blue cubes in the bag.\n",
    "\n",
    "The **power** of a set of cubes is equal to the numbers of red, green, and blue cubes multiplied together. The power of the minimum set of cubes in game 1 is `48`. In games 2-5 it was `12`, `1560`, `630`, and `36`, respectively. Adding up these five powers produces the sum **`2286`**.\n",
    "\n",
    "For each game, find the minimum set of cubes that must have been present. **What is the sum of the power of these sets?**\n",
    "\n",
    "Your puzzle answer was `71220`."
   ]
  },
  {
   "cell_type": "code",
   "execution_count": 2,
   "id": "e42520ac-acdf-4317-adb8-984e0a76f643",
   "metadata": {},
   "outputs": [
    {
     "name": "stdout",
     "output_type": "stream",
     "text": [
      "71220\n"
     ]
    }
   ],
   "source": [
    "from math import prod\n",
    "\n",
    "result = 0\n",
    "\n",
    "for line in input:\n",
    "  cubes = defaultdict(int)\n",
    "  for number, color in findall(r'(\\d+) (\\w+)', line):\n",
    "    cubes[color] = max(cubes[color], int(number))\n",
    "  result += prod(cubes.values())\n",
    "\n",
    "print(result)"
   ]
  }
 ],
 "metadata": {
  "kernelspec": {
   "display_name": "Python 3 (ipykernel)",
   "language": "python",
   "name": "python3"
  },
  "language_info": {
   "codemirror_mode": {
    "name": "ipython",
    "version": 3
   },
   "file_extension": ".py",
   "mimetype": "text/x-python",
   "name": "python",
   "nbconvert_exporter": "python",
   "pygments_lexer": "ipython3",
   "version": "3.8.10"
  }
 },
 "nbformat": 4,
 "nbformat_minor": 5
}
