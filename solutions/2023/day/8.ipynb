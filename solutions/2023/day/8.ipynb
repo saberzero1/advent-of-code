{
 "cells": [
  {
   "cell_type": "code",
   "execution_count": 1,
   "id": "ae468bd2-837c-47a5-bb1b-b231c720017c",
   "metadata": {},
   "outputs": [],
   "source": [
    "%load_ext lab_black\n",
    "%load_ext pycodestyle_magic\n",
    "%flake8_on --ignore E501"
   ]
  },
  {
   "cell_type": "markdown",
   "id": "eb69018d-f811-4ee4-9de4-ab483bdb58b6",
   "metadata": {},
   "source": [
    "# --- Day 8: Haunted Wasteland ---\n",
    "\n",
    "[\\[Index\\]](../../index.ipynb) [\\[Repository\\]](https://github.com/saberzero1/advent-of-code) [\\[Advent of Code Page\\]](https://adventofcode.com/2023/day/8)"
   ]
  },
  {
   "cell_type": "markdown",
   "id": "11a7a536-2b20-4c4b-9707-083cbbbbfd2a",
   "metadata": {},
   "source": [
    "## --- Part One ---\n",
    "\n",
    "You're still riding a camel across Desert Island when you spot a sandstorm quickly approaching. When you turn to warn the Elf, she disappears before your eyes! To be fair, she had just finished warning you about **ghosts** a few minutes ago.\n",
    "\n",
    "One of the camel's pouches is labeled \"maps\" - sure enough, it's full of documents (your puzzle input) about how to navigate the desert. At least, you're pretty sure that's what they are; one of the documents contains a list of left/right instructions, and the rest of the documents seem to describe some kind of **network** of labeled nodes.\n",
    "\n",
    "It seems like you're meant to use the **left/right** instructions to **navigate the network**. Perhaps if you have the camel follow the same instructions, you can escape the haunted wasteland!\n",
    "\n",
    "After examining the maps for a bit, two nodes stick out: `AAA` and `ZZZ`. You feel like `AAA` is where you are now, and you have to follow the left/right instructions until you reach `ZZZ`.\n",
    "\n",
    "This format defines each **node** of the network individually. For example:\n",
    "\n",
    "```\n",
    "RL\n",
    "\n",
    "AAA = (BBB, CCC)\n",
    "BBB = (DDD, EEE)\n",
    "CCC = (ZZZ, GGG)\n",
    "DDD = (DDD, DDD)\n",
    "EEE = (EEE, EEE)\n",
    "GGG = (GGG, GGG)\n",
    "ZZZ = (ZZZ, ZZZ)\n",
    "```\n",
    "\n",
    "Starting with `AAA`, you need to look up the next element based on the next left/right instruction in your input. In this example, start with `AAA` and go right (`R`) by choosing the right element of `AAA`, **`CCC`**. Then, `L` means to choose the **left** element of `CCC`, **`ZZZ`**. By following the left/right instructions, you reach `ZZZ` in **`2`** steps.\n",
    "\n",
    "Of course, you might not find `ZZZ` right away. If you run out of left/right instructions, repeat the whole sequence of instructions as necessary: `RL` really means `RLRLRLRLRLRLRLRL...` and so on. For example, here is a situation that takes **`6`** steps to reach `ZZZ`:\n",
    "\n",
    "```\n",
    "LLR\n",
    "\n",
    "AAA = (BBB, BBB)\n",
    "BBB = (AAA, ZZZ)\n",
    "ZZZ = (ZZZ, ZZZ)\n",
    "```\n",
    "\n",
    "Starting at `AAA`, follow the left/right instructions. **How many steps are required to reach `ZZZ`?**\n",
    "\n",
    "Your puzzle answer was `14429`. nodes that end with `Z`?\n",
    "\n",
    "Your puzzle answer was 10921547990923."
   ]
  },
  {
   "cell_type": "code",
   "execution_count": 2,
   "id": "a2840deb-b4f5-4949-9fb4-3c4006592f2a",
   "metadata": {},
   "outputs": [
    {
     "name": "stdout",
     "output_type": "stream",
     "text": [
      "14429\n"
     ]
    }
   ],
   "source": [
    "from math import gcd\n",
    "from re import findall, match\n",
    "\n",
    "lines = [input for input in open(\"input/8.txt\").read().strip().split(\"\\n\\n\")]\n",
    "\n",
    "navigation = list(lines[0])\n",
    "connections = {}\n",
    "directions = {\"L\": 0, \"R\": 1}\n",
    "\n",
    "for line in lines[1].split(\"\\n\"):\n",
    "    matches = findall(r\"(\\w{3})\", line)\n",
    "    node = matches[0]\n",
    "    left = matches[1]\n",
    "    right = matches[2]\n",
    "    connections[node] = (left, right)\n",
    "\n",
    "position = \"AAA\"\n",
    "\n",
    "result = 0\n",
    "\n",
    "while not match(r\"Z{3}\", position):\n",
    "    direction = navigation[result % len(navigation)]\n",
    "    position = connections[position][directions[direction]]\n",
    "    result += 1\n",
    "\n",
    "print(result)"
   ]
  },
  {
   "cell_type": "markdown",
   "id": "81f00a5c-4bd5-44d0-8648-804e96c77961",
   "metadata": {},
   "source": [
    "## --- Part Two ---\n",
    "\n",
    "The sandstorm is upon you and you aren't any closer to escaping the wasteland. You had the camel follow the instructions, but you've barely left your starting position. It's going to take **significantly more steps** to escape!\n",
    "\n",
    "What if the map isn't for people - what if the map is for **ghosts**? Are ghosts even bound by the laws of spacetime? Only one way to find out.\n",
    "\n",
    "After examining the maps a bit longer, your attention is drawn to a curious fact: the number of nodes with names ending in `A` is equal to the number ending in `Z`! If you were a ghost, you'd probably just **start at every node that ends with `A`** and follow all of the paths at the same time until they all simultaneously end up at nodes that end with `Z`.\n",
    "\n",
    "For example:\n",
    "\n",
    "```\n",
    "LR\n",
    "\n",
    "11A = (11B, XXX)\n",
    "11B = (XXX, 11Z)\n",
    "11Z = (11B, XXX)\n",
    "22A = (22B, XXX)\n",
    "22B = (22C, 22C)\n",
    "22C = (22Z, 22Z)\n",
    "22Z = (22B, 22B)\n",
    "XXX = (XXX, XXX)\n",
    "```\n",
    "\n",
    "Here, there are two starting nodes, `11A` and `22A` (because they both end with `A`). As you follow each left/right instruction, use that instruction to **simultaneously** navigate away from both nodes you're currently on. Repeat this process until **all** of the nodes you're currently on end with `Z`. (If only some of the nodes you're on end with `Z`, they act like any other node and you continue as normal.) In this example, you would proceed as follows:\n",
    "\n",
    " - Step 0: You are at 11A and 22A.\n",
    " - Step 1: You choose all of the **left** paths, leading you to `11B` and `22B`.\n",
    " - Step 2: You choose all of the **right** paths, leading you to `11Z` and `22C`.\n",
    " - Step 3: You choose all of the **left** paths, leading you to `11B` and `22Z`.\n",
    " - Step 4: You choose all of the **right** paths, leading you to `11Z` and `22B`.\n",
    " - Step 5: You choose all of the **left** paths, leading you to `11B` and `22C`.\n",
    " - Step 6: You choose all of the **right** paths, leading you to `11Z` and `22Z`.\n",
    "\n",
    "So, in this example, you end up entirely on nodes that end in `Z` after **`6`** steps.\n",
    "\n",
    "Simultaneously start on every node that ends with `A`. **How many steps does it take before you're only on nodes that end with `Z`?**\n",
    "\n",
    "Your puzzle answer was `10921547990923`."
   ]
  },
  {
   "cell_type": "code",
   "execution_count": 3,
   "id": "4c2ddbe5-356d-490d-8ddf-ace606250fad",
   "metadata": {},
   "outputs": [
    {
     "name": "stdout",
     "output_type": "stream",
     "text": [
      "10921547990923\n"
     ]
    }
   ],
   "source": [
    "def solvesteps(start):\n",
    "    position = start\n",
    "    index = 0\n",
    "    while not position.endswith(\"Z\"):\n",
    "        direction = navigation[index % len(navigation)]\n",
    "        position = connections[position][directions[direction]]\n",
    "        index += 1\n",
    "    return index\n",
    "\n",
    "\n",
    "result = 1\n",
    "for start in connections:\n",
    "    if start.endswith(\"A\"):\n",
    "        result = abs(result * solvesteps(start)) // gcd(result, solvesteps(start))\n",
    "\n",
    "print(result)"
   ]
  }
 ],
 "metadata": {
  "kernelspec": {
   "display_name": "Python 3 (ipykernel)",
   "language": "python",
   "name": "python3"
  },
  "language_info": {
   "codemirror_mode": {
    "name": "ipython",
    "version": 3
   },
   "file_extension": ".py",
   "mimetype": "text/x-python",
   "name": "python",
   "nbconvert_exporter": "python",
   "pygments_lexer": "ipython3",
   "version": "3.8.10"
  }
 },
 "nbformat": 4,
 "nbformat_minor": 5
}
