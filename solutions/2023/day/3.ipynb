{
 "cells": [
  {
   "cell_type": "markdown",
   "id": "f11dd218-fa53-4b7a-b797-58285e516e08",
   "metadata": {},
   "source": [
    "# --- Day 3: Gear Ratios ---\n",
    "\n",
    "[\\[Index\\]](../../index.ipynb) [\\[Repository\\]](https://github.com/saberzero1/advent-of-code) [\\[Advent of Code Page\\]](https://adventofcode.com/2023/day/3)"
   ]
  },
  {
   "cell_type": "markdown",
   "id": "395e17e7-7a5f-4cbc-9f4d-608899f08735",
   "metadata": {},
   "source": [
    "## --- Part One ---\n",
    "\n",
    "You and the Elf eventually reach a [gondola lift](https://en.wikipedia.org/wiki/Gondola_lift) station; he says the gondola lift will take you up to the **water source**, but this is as far as he can bring you. You go inside.\n",
    "\n",
    "It doesn't take long to find the gondolas, but there seems to be a problem: they're not moving.\n",
    "\n",
    "\"Aaah!\"\n",
    "\n",
    "You turn around to see a slightly-greasy Elf with a wrench and a look of surprise. \"Sorry, I wasn't expecting anyone! The gondola lift isn't working right now; it'll still be a while before I can fix it.\" You offer to help.\n",
    "\n",
    "The engineer explains that an engine part seems to be missing from the engine, but nobody can figure out which one. If you can **add up all the part numbers** in the engine schematic, it should be easy to work out which part is missing.\n",
    "\n",
    "The engine schematic (your puzzle input) consists of a visual representation of the engine. There are lots of numbers and symbols you don't really understand, but apparently **any number adjacent to a symbol**, even diagonally, is a \"part number\" and should be included in your sum. (Periods (`.`) do not count as a symbol.)\n",
    "\n",
    "Here is an example engine schematic:\n",
    "\n",
    "```\n",
    "467..114..\n",
    "...*......\n",
    "..35..633.\n",
    "......#...\n",
    "617*......\n",
    ".....+.58.\n",
    "..592.....\n",
    "......755.\n",
    "...$.*....\n",
    ".664.598..\n",
    "```\n",
    "\n",
    "In this schematic, two numbers are not part numbers because they are **not** adjacent to a symbol: `114` (top right) and `58` (middle right). Every other number is adjacent to a symbol and so is a part number; their sum is `4361`.\n",
    "\n",
    "Of course, the actual engine schematic is much larger. **What is the sum of all of the part numbers in the engine schematic?**\n",
    "\n",
    "Your puzzle answer was `498559`."
   ]
  },
  {
   "cell_type": "code",
   "execution_count": 1,
   "id": "d6bc81ad-ca1e-47ef-bca3-508acc463c5b",
   "metadata": {},
   "outputs": [
    {
     "name": "stdout",
     "output_type": "stream",
     "text": [
      "498559\n"
     ]
    }
   ],
   "source": [
    "from re import findall\n",
    "from collections import defaultdict\n",
    "\n",
    "input = open('input/3.txt', 'r').read().splitlines()\n",
    "\n",
    "grid = [[char for char in line] for line in input]\n",
    "y = len(grid)\n",
    "x = len(grid[0])\n",
    "overlaps = [-1,0,1]\n",
    "\n",
    "numbers = defaultdict(list)\n",
    "\n",
    "result = 0\n",
    "\n",
    "for row in range(y):\n",
    "  gears = set()\n",
    "  number = 0\n",
    "  near_part = False\n",
    "  for column in range(x+1):\n",
    "    if column<x and grid[row][column].isdigit():\n",
    "      number = number*10+int(grid[row][column])\n",
    "      for row_overlap in overlaps:\n",
    "        for column_overlap in overlaps:\n",
    "          if 0<=row+row_overlap<y and 0<=column+column_overlap<x:\n",
    "            char = grid[row+row_overlap][column+column_overlap]\n",
    "            if findall(r'[^\\d.]', char):\n",
    "              near_part = True\n",
    "            if findall(r'\\*', char):\n",
    "              gears.add((row+row_overlap, column+column_overlap))\n",
    "    elif number>0:\n",
    "      for gear in gears:\n",
    "        numbers[gear].append(number)\n",
    "      if near_part:\n",
    "        result += number\n",
    "      number = 0\n",
    "      near_part = False\n",
    "      gears = set()\n",
    "\n",
    "print(result)"
   ]
  },
  {
   "cell_type": "markdown",
   "id": "c20d91a1-f2f6-4c76-ae24-b8a3d4288a74",
   "metadata": {},
   "source": [
    "## --- Part Two ---\n",
    "\n",
    "The engineer finds the missing part and installs it in the engine! As the engine springs to life, you jump in the closest gondola, finally ready to ascend to the water source.\n",
    "\n",
    "You don't seem to be going very fast, though. Maybe something is still wrong? Fortunately, the gondola has a phone labeled \"help\", so you pick it up and the engineer answers.\n",
    "\n",
    "Before you can explain the situation, she suggests that you look out the window. There stands the engineer, holding a phone in one hand and waving with the other. You're going so slowly that you haven't even left the station. You exit the gondola.\n",
    "\n",
    "The missing part wasn't the only issue - one of the gears in the engine is wrong. A **gear** is any `*` symbol that is adjacent to **exactly two part numbers**. Its **gear ratio** is the result of multiplying those two numbers together.\n",
    "\n",
    "This time, you need to find the gear ratio of every gear and add them all up so that the engineer can figure out which gear needs to be replaced.\n",
    "\n",
    "Consider the same engine schematic again:\n",
    "\n",
    "```\n",
    "467..114..\n",
    "...*......\n",
    "..35..633.\n",
    "......#...\n",
    "617*......\n",
    ".....+.58.\n",
    "..592.....\n",
    "......755.\n",
    "...$.*....\n",
    ".664.598..\n",
    "```\n",
    "\n",
    "In this schematic, there are two gears. The first is in the top left; it has part numbers `467` and `35`, so its gear ratio is `16345`. The second gear is in the lower right; its gear ratio is `451490`. (The `*` adjacent to `617` is **not** a gear because it is only adjacent to one part number.) Adding up all of the gear ratios produces **`467835`**.\n",
    "\n",
    "**What is the sum of all of the gear ratios in your engine schematic?**\n",
    "\n",
    "Your puzzle answer was `72246648`."
   ]
  },
  {
   "cell_type": "code",
   "execution_count": 2,
   "id": "4aa85df0-bb64-462c-b6ed-bc549207648c",
   "metadata": {},
   "outputs": [
    {
     "name": "stdout",
     "output_type": "stream",
     "text": [
      "72246648\n"
     ]
    }
   ],
   "source": [
    "result = 0\n",
    "\n",
    "for key,value in numbers.items():\n",
    "  if len(value)==2:\n",
    "    result += value[0]*value[1]\n",
    "\n",
    "print(result)"
   ]
  }
 ],
 "metadata": {
  "kernelspec": {
   "display_name": "Python 3 (ipykernel)",
   "language": "python",
   "name": "python3"
  },
  "language_info": {
   "codemirror_mode": {
    "name": "ipython",
    "version": 3
   },
   "file_extension": ".py",
   "mimetype": "text/x-python",
   "name": "python",
   "nbconvert_exporter": "python",
   "pygments_lexer": "ipython3",
   "version": "3.8.10"
  }
 },
 "nbformat": 4,
 "nbformat_minor": 5
}
