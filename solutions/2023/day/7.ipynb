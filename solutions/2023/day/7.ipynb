{
 "cells": [
  {
   "cell_type": "code",
   "execution_count": 1,
   "id": "243e5a22-cfd8-4736-aacd-d89434067480",
   "metadata": {
    "editable": true,
    "slideshow": {
     "slide_type": ""
    },
    "tags": []
   },
   "outputs": [],
   "source": [
    "%load_ext lab_black\n",
    "%load_ext pycodestyle_magic\n",
    "%flake8_on --ignore E501"
   ]
  },
  {
   "cell_type": "markdown",
   "id": "291e59c3-0214-4550-a378-f00ef19a3126",
   "metadata": {
    "editable": true,
    "slideshow": {
     "slide_type": ""
    },
    "tags": []
   },
   "source": [
    "# --- Day 7: Camel Cards ---\n",
    "\n",
    "[\\[Index\\]](../../index.ipynb) [\\[Repository\\]](https://github.com/saberzero1/advent-of-code) [\\[Advent of Code Page\\]](https://adventofcode.com/2023/day/7)"
   ]
  },
  {
   "cell_type": "markdown",
   "id": "5f37e553-4bd6-44c4-8f0d-fd8ad0c1400c",
   "metadata": {
    "editable": true,
    "slideshow": {
     "slide_type": ""
    },
    "tags": []
   },
   "source": [
    "## --- Part One ---\n",
    "\n",
    "Your all-expenses-paid trip turns out to be a one-way, five-minute ride in an [airship](https://en.wikipedia.org/wiki/Airship). (At least it's a **cool** airship!) It drops you off at the edge of a vast desert and descends back to Island Island.\n",
    "\n",
    "\"Did you bring the parts?\"\n",
    "\n",
    "You turn around to see an Elf completely covered in white clothing, wearing goggles, and riding a large [camel](https://en.wikipedia.org/wiki/Dromedary).\n",
    "\n",
    "\"Did you bring the parts?\" she asks again, louder this time. You aren't sure what parts she's looking for; you're here to figure out why the sand stopped.\n",
    "\n",
    "\"The parts! For the sand, yes! Come with me; I will show you.\" She beckons you onto the camel.\n",
    "\n",
    "After riding a bit across the sands of Desert Island, you can see what look like very large rocks covering half of the horizon. The Elf explains that the rocks are all along the part of Desert Island that is directly above Island Island, making it hard to even get there. Normally, they use big machines to move the rocks and filter the sand, but the machines have broken down because Desert Island recently stopped receiving the **parts** they need to fix the machines.\n",
    "\n",
    "You've already assumed it'll be your job to figure out why the parts stopped when she asks if you can help. You agree automatically.\n",
    "\n",
    "Because the journey will take a few days, she offers to teach you the game of **Camel Cards**. Camel Cards is sort of similar to [poker](https://en.wikipedia.org/wiki/List_of_poker_hands) except it's designed to be easier to play while riding a camel.\n",
    "\n",
    "In Camel Cards, you get a list of **hands**, and your goal is to order them based on the **strength** of each hand. A hand consists of **five cards** labeled one of `A`, `K`, `Q`, `J`, `T`, `9`, `8`, `7`, `6`, `5`, `4`, `3`, or `2`. The relative strength of each card follows this order, where `A` is the highest and `2` is the lowest.\n",
    "\n",
    "Every hand is exactly one **type**. From strongest to weakest, they are:\n",
    "\n",
    " - **Five of a kind**, where all five cards have the same label: `AAAAA`\n",
    " - **Four of a kind**, where four cards have the same label and one card has a different label: `AA8A`\n",
    " - **Full house**, where three cards have the same label, and the remaining two cards share a different label: `23332`\n",
    " - **Three of a kind**, where three cards have the same label, and the remaining two cards are each different from any other card in the hand: `TTT98`\n",
    " - **Two pair**, where two cards share one label, two other cards share a second label, and the remaining card has a third label: `23432`\n",
    " - **One pair**, where two cards share one label, and the other three cards have a different label from the pair and each other: `A23A4`\n",
    " - **High card**, where all cards' labels are distinct: `23456`\n",
    "\n",
    "Hands are primarily ordered based on type; for example, every **full house** is stronger than any **three of a kind**.\n",
    "\n",
    "If two hands have the same type, a second ordering rule takes effect. Start by comparing the **first card in each hand**. If these cards are different, the hand with the stronger first card is considered stronger. If the first card in each hand have the **same label**, however, then move on to considering the **second card in each hand**. If they differ, the hand with the higher second card wins; otherwise, continue with the third card in each hand, then the fourth, then the fifth.\n",
    "\n",
    "So, `33332` and `2AAAA` are both **four of a kind hands**, but `33332` is stronger because its first card is stronger. Similarly, `77888` and `77788` are both a **full house**, but `77888` is stronger because its third card is stronger (and both hands have the same first and second card).\n",
    "\n",
    "To play Camel Cards, you are given a list of hands and their corresponding **bid** (your puzzle input). For example:\n",
    "\n",
    "```\n",
    "32T3K 765\n",
    "T55J5 684\n",
    "KK677 28\n",
    "KTJJT 220\n",
    "QQQJA 483\n",
    "```\n",
    "\n",
    "This example shows five hands; each hand is followed by its **bid** amount. Each hand wins an amount equal to its bid multiplied by its **rank**, where the weakest hand gets rank 1, the second-weakest hand gets rank 2, and so on up to the strongest hand. Because there are five hands in this example, the strongest hand will have rank 5 and its bid will be multiplied by 5.\n",
    "\n",
    "So, the first step is to put the hands in order of strength:\n",
    "\n",
    " - `32T3K` is the only one pair and the other hands are all a stronger type, so it gets rank 1.\n",
    " - `KK677` and `KTJJT` are both two pair. Their first cards both have the same label, but the second card of `KK677` is stronger (`K` vs `T`), so `KTJJT` gets rank 2 and `KK677` gets rank 3.\n",
    " - `T55J5` and `QQQJA` are both three of a kind. `QQQJA` has a stronger first card, so it gets rank 5 and `T55J5` gets rank 4.\n",
    "\n",
    "Now, you can determine the total winnings of this set of hands by adding up the result of multiplying each hand's bid with its rank (`765` * 1 + `220` * 2 + `28` * 3 + `684` * 4 + `483` * 5). So the total winnings in this example are **`6440`**.\n",
    "\n",
    "Find the rank of every hand in your set. **What are the total winnings?**\n",
    "\n",
    "Your puzzle answer was `255048101`."
   ]
  },
  {
   "cell_type": "code",
   "execution_count": 2,
   "id": "123dcc60-b478-4e0e-be5a-b444c6738acf",
   "metadata": {},
   "outputs": [
    {
     "name": "stdout",
     "output_type": "stream",
     "text": [
      "255048101\n"
     ]
    }
   ],
   "source": [
    "from collections import Counter\n",
    "\n",
    "lines = [line for line in open(\"input/7.txt\").read().splitlines() if line.strip()]\n",
    "\n",
    "\n",
    "def hands(hand, ignore_jokers):\n",
    "    if ignore_jokers:\n",
    "        hand = hand.replace(\"J\", \"X\")\n",
    "    rank = [\"J23456789TXQKA\".index(index) for index in hand]\n",
    "    total_score = []\n",
    "    for face in \"J23456789TQKA\":\n",
    "        counter = Counter(hand.replace(\"J\", face))\n",
    "        parse = tuple(sorted(counter.values()))\n",
    "        total = [\n",
    "            (1, 1, 1, 1, 1),\n",
    "            (1, 1, 1, 2),\n",
    "            (1, 2, 2),\n",
    "            (1, 1, 3),\n",
    "            (2, 3),\n",
    "            (1, 4),\n",
    "            (5,),\n",
    "        ].index(parse)\n",
    "        total_score.append(total)\n",
    "    return (max(total_score), *rank)\n",
    "\n",
    "\n",
    "hand = sorted(\n",
    "    (hands(hand, True), int(bid)) for hand, bid in (line.split() for line in lines)\n",
    ")\n",
    "\n",
    "result = 0\n",
    "\n",
    "for index, (_, bid) in enumerate(hand):\n",
    "    result += index * bid + bid\n",
    "\n",
    "print(result)"
   ]
  },
  {
   "cell_type": "markdown",
   "id": "14c35b22-5e05-45a3-bb94-838f7f50e63b",
   "metadata": {
    "editable": true,
    "slideshow": {
     "slide_type": ""
    },
    "tags": []
   },
   "source": [
    "## --- Part Two ---\n",
    "\n",
    "To make things a little more interesting, the Elf introduces one additional rule. Now, `J` cards are [jokers](https://en.wikipedia.org/wiki/Joker_(playing_card)) - wildcards that can act like whatever card would make the hand the strongest type possible.\n",
    "\n",
    "To balance this, **`J` cards are now the weakest individual cards**, weaker even than `2`. The other cards stay in the same order: `A`, `K`, `Q`, `T`, `9`, `8`, `7`, `6`, `5`, `4`, `3`, `2`, `J`.\n",
    "\n",
    "`J` cards can pretend to be whatever card is best for the purpose of determining hand type; for example, `QJJQ2` is now considered **four of a kind**. However, for the purpose of breaking ties between two hands of the same type, `J` is always treated as `J`, not the card it's pretending to be: `JKKK2` is weaker than `QQQQ2` because `J` is weaker than `Q`.\n",
    "\n",
    "Now, the above example goes very differently:\n",
    "\n",
    "```\n",
    "32T3K 765\n",
    "T55J5 684\n",
    "KK677 28\n",
    "KTJJT 220\n",
    "QQQJA 483\n",
    "```\n",
    "\n",
    " - `32T3K` is still the only **one pair**; it doesn't contain any jokers, so its strength doesn't increase.\n",
    " - `KK677` is now the only **two pair**, making it the second-weakest hand.\n",
    " - `T55J5`, `KTJJT`, and `QQQJA` are now all **four of a kind**! `T55J5` gets rank 3, `QQQJA` gets rank 4, and `KTJJT` gets rank 5.\n",
    "\n",
    "With the new joker rule, the total winnings in this example are **`5905`**.\n",
    "\n",
    "Using the new joker rule, find the rank of every hand in your set. **What are the new total winnings?**\n",
    "\n",
    "Your puzzle answer was `253718286`."
   ]
  },
  {
   "cell_type": "code",
   "execution_count": 3,
   "id": "65598451-ba66-4ffc-8964-338fd9f2891e",
   "metadata": {
    "editable": true,
    "slideshow": {
     "slide_type": ""
    },
    "tags": []
   },
   "outputs": [
    {
     "name": "stdout",
     "output_type": "stream",
     "text": [
      "253718286\n"
     ]
    }
   ],
   "source": [
    "hand = sorted(\n",
    "    (hands(hand, False), int(bid)) for hand, bid in (line.split() for line in lines)\n",
    ")\n",
    "\n",
    "result = 0\n",
    "\n",
    "for index, (_, bid) in enumerate(hand):\n",
    "    result += index * bid + bid\n",
    "\n",
    "print(result)"
   ]
  }
 ],
 "metadata": {
  "kernelspec": {
   "display_name": "Python 3 (ipykernel)",
   "language": "python",
   "name": "python3"
  },
  "language_info": {
   "codemirror_mode": {
    "name": "ipython",
    "version": 3
   },
   "file_extension": ".py",
   "mimetype": "text/x-python",
   "name": "python",
   "nbconvert_exporter": "python",
   "pygments_lexer": "ipython3",
   "version": "3.8.10"
  }
 },
 "nbformat": 4,
 "nbformat_minor": 5
}
