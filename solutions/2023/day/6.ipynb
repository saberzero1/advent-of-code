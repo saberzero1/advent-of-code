{
 "cells": [
  {
   "cell_type": "code",
   "execution_count": 1,
   "id": "bcbb90b1-7d3c-4791-bded-77c579c152d9",
   "metadata": {},
   "outputs": [],
   "source": [
    "%load_ext lab_black\n",
    "%load_ext pycodestyle_magic\n",
    "%flake8_on --ignore E501"
   ]
  },
  {
   "cell_type": "markdown",
   "id": "9c91d6dd-dcd5-4fb3-86db-3d9e994ae393",
   "metadata": {},
   "source": [
    "# --- Day 6: Wait For It ---\n",
    "\n",
    "[\\[Index\\]](../../index.ipynb) [\\[Repository\\]](https://github.com/saberzero1/advent-of-code) [\\[Advent of Code Page\\]](https://adventofcode.com/2023/day/6)"
   ]
  },
  {
   "cell_type": "markdown",
   "id": "a25d22d7-4b22-49d4-80f6-ffe0f9178afc",
   "metadata": {},
   "source": [
    "## --- Part One ---\n",
    "\n",
    "The ferry quickly brings you across Island Island. After asking around, you discover that there is indeed normally a large pile of sand somewhere near here, but you don't see anything besides lots of water and the small island where the ferry has docked.\n",
    "\n",
    "As you try to figure out what to do next, you notice a poster on a wall near the ferry dock. \"Boat races! Open to the public! Grand prize is an all-expenses-paid trip to **Desert Island**!\" That must be where the sand comes from! Best of all, the boat races are starting in just a few minutes.\n",
    "\n",
    "You manage to sign up as a competitor in the boat races just in time. The organizer explains that it's not really a traditional race - instead, you will get a fixed amount of time during which your boat has to travel as far as it can, and you win if your boat goes the farthest.\n",
    "\n",
    "As part of signing up, you get a sheet of paper (your puzzle input) that lists the **time** allowed for each race and also the best **distance** ever recorded in that race. To guarantee you win the grand prize, you need to make sure you **go farther in each race** than the current record holder.\n",
    "\n",
    "The organizer brings you over to the area where the boat races are held. The boats are much smaller than you expected - they're actually **toy boats**, each with a big button on top. Holding down the button **charges the boat**, and releasing the button **allows the boat to move**. Boats move faster if their button was held longer, but time spent holding the button counts against the total race time. You can only hold the button at the start of the race, and boats don't move until the button is released.\n",
    "\n",
    "For example:\n",
    "\n",
    "```\n",
    "Time:      7  15   30\n",
    "Distance:  9  40  200\n",
    "```\n",
    "\n",
    "This document describes three races:\n",
    "\n",
    "* The first race lasts 7 milliseconds. The record distance in this race is 9 millimeters.\n",
    "* The second race lasts 15 milliseconds. The record distance in this race is 40 millimeters.\n",
    "* The third race lasts 30 milliseconds. The record distance in this race is 200 millimeters.\n",
    "\n",
    "Your toy boat has a starting speed of **zero millimeters per millisecond**. For each whole millisecond you spend at the beginning of the race holding down the button, the boat's speed increases by **one millimeter per millisecond**.\n",
    "\n",
    "So, because the first race lasts 7 milliseconds, you only have a few options:\n",
    "\n",
    "* Don't hold the button at all (that is, hold it for **`0` milliseconds**) at the start of the race. The boat won't move; it will have traveled **`0` millimeters** by the end of the race.\n",
    "* Hold the button for **`1` millisecond** at the start of the race. Then, the boat will travel at a speed of `1` millimeter per millisecond for 6 milliseconds, reaching a total distance traveled of **`6` millimeters**.\n",
    "* Hold the button for **`2` milliseconds**, giving the boat a speed of `2` millimeters per millisecond. It will then get 5 milliseconds to move, reaching a total distance of **`10` millimeters**.\n",
    "* Hold the button for **`3` milliseconds**. After its remaining 4 milliseconds of travel time, the boat will have gone **`12` millimeters**.\n",
    "* Hold the button for **`4` milliseconds**. After its remaining 3 milliseconds of travel time, the boat will have gone **`12` millimeters**.\n",
    "* Hold the button for **`5` milliseconds**, causing the boat to travel a total of **`10` millimeters**.\n",
    "* Hold the button for **`6` milliseconds**, causing the boat to travel a total of **`6` millimeters**.\n",
    "* Hold the button for **`7` milliseconds**. That's the entire duration of the race. You never let go of the button. The boat can't move until you let go of the button. Please make sure you let go of the button so the boat gets to move. **`0` millimeters**.\n",
    "\n",
    "Since the current record for this race is `9` millimeters, there are actually **`4`** different ways you could win: you could hold the button for `2`, `3`, `4`, or `5` milliseconds at the start of the race.\n",
    "\n",
    "In the second race, you could hold the button for at least `4` milliseconds and at most `11` milliseconds and beat the record, a total of **`8`** different ways to win.\n",
    "\n",
    "In the third race, you could hold the button for at least `11` milliseconds and no more than `19` milliseconds and still beat the record, a total of **`9`** ways you could win.\n",
    "\n",
    "To see how much margin of error you have, determine the **number of ways you can beat the record** in each race; in this example, if you multiply these values together, you get **`288`** (`4` * `8` * `9`).\n",
    "\n",
    "Determine the number of ways you could beat the record in each race. **What do you get if you multiply these numbers together?**\n",
    "\n",
    "Your puzzle answer was `345015`."
   ]
  },
  {
   "cell_type": "code",
   "execution_count": 2,
   "id": "1529bc5b-a422-4bd6-a243-badf161c0509",
   "metadata": {},
   "outputs": [
    {
     "name": "stdout",
     "output_type": "stream",
     "text": [
      "345015\n"
     ]
    }
   ],
   "source": [
    "from re import findall, sub, search\n",
    "from math import sqrt, pow, floor, ceil\n",
    "\n",
    "input = open(\"input/6.txt\", \"r\").read().splitlines()\n",
    "\n",
    "numbers = [[int(match) for match in findall(r\"(\\d+)\", line)] for line in input]\n",
    "\n",
    "result = 1\n",
    "\n",
    "for index in range(len(numbers[0])):\n",
    "    time = numbers[0][index]\n",
    "    distance = numbers[1][index]\n",
    "    delta = sqrt(pow(time / 2, 2) - distance)\n",
    "    lower = floor(time / 2 - delta + 1)\n",
    "    upper = ceil(time / 2 + delta - 1)\n",
    "    result *= upper - lower + 1\n",
    "\n",
    "print(result)"
   ]
  },
  {
   "cell_type": "markdown",
   "id": "fc401385-5f4b-4b8c-bf75-7a02cf25056a",
   "metadata": {},
   "source": [
    "## --- Part Two ---\n",
    "\n",
    "As the race is about to start, you realize the piece of paper with race times and record distances you got earlier actually just has very bad [kerning](https://en.wikipedia.org/wiki/Kerning). There's really **only one race** - ignore the spaces between the numbers on each line.\n",
    "\n",
    "So, the example from before:\n",
    "\n",
    "```\n",
    "Time:      7  15   30\n",
    "Distance:  9  40  200\n",
    "```\n",
    "\n",
    "...now instead means this:\n",
    "\n",
    "```\n",
    "Time:      71530\n",
    "Distance:  940200\n",
    "```\n",
    "\n",
    "Now, you have to figure out how many ways there are to win this single race. In this example, the race lasts for **`71530` milliseconds** and the record distance you need to beat is **`940200` millimeters**. You could hold the button anywhere from `14` to `71516` milliseconds and beat the record, a total of **`71503`** ways!\n",
    "\n",
    "**How many ways can you beat the record in this one much longer race?**\n",
    "\n",
    "Your puzzle answer was `42588603`."
   ]
  },
  {
   "cell_type": "code",
   "execution_count": 3,
   "id": "26084c2e-a393-4373-83b7-8591b53c7391",
   "metadata": {},
   "outputs": [
    {
     "name": "stdout",
     "output_type": "stream",
     "text": [
      "42588603\n"
     ]
    }
   ],
   "source": [
    "result = 1\n",
    "\n",
    "lines = [\n",
    "    int(match.group())\n",
    "    for match in [search(r\"(\\d+)\", sub(r\"\\s\", r\"\", line)) for line in input]\n",
    "]\n",
    "\n",
    "delta = sqrt(pow(lines[0] / 2, 2) - lines[1])\n",
    "lower = floor(time / 2 - delta + 1)\n",
    "upper = ceil(time / 2 + delta - 1)\n",
    "result *= upper - lower + 1\n",
    "\n",
    "print(result)"
   ]
  }
 ],
 "metadata": {
  "kernelspec": {
   "display_name": "Python 3 (ipykernel)",
   "language": "python",
   "name": "python3"
  },
  "language_info": {
   "codemirror_mode": {
    "name": "ipython",
    "version": 3
   },
   "file_extension": ".py",
   "mimetype": "text/x-python",
   "name": "python",
   "nbconvert_exporter": "python",
   "pygments_lexer": "ipython3",
   "version": "3.8.10"
  }
 },
 "nbformat": 4,
 "nbformat_minor": 5
}
