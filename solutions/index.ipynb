{
 "cells": [
  {
   "cell_type": "code",
   "execution_count": 1,
   "id": "0087b45e-39be-4160-bc39-1f3f53712a94",
   "metadata": {},
   "outputs": [],
   "source": [
    "%load_ext lab_black\n",
    "%load_ext pycodestyle_magic\n",
    "%flake8_on --ignore E501"
   ]
  },
  {
   "cell_type": "markdown",
   "id": "4009818f-2c38-4d9a-83c7-397e14288d58",
   "metadata": {},
   "source": [
    "# --- Advent of Code ---\n",
    "\n",
    "[\\[Profile\\]](https://github.com/saberzero1) [\\[Repository\\]](https://github.com/saberzero1/advent-of-code) [\\[Advent of Code\\]](https://adventofcode.com)"
   ]
  },
  {
   "cell_type": "markdown",
   "id": "1ae9b088-9edf-4f3c-9d79-7a0a0bdf7de5",
   "metadata": {
    "editable": true,
    "slideshow": {
     "slide_type": ""
    },
    "tags": []
   },
   "source": [
    "## --- 2023 ---\n",
    "\n",
    "| Part 1 | Part 2 |\n",
    "| --- | --- |\n",
    "| [\\[Day 10: Pipe Maze\\]](2023/day/10.ipynb) | [\\[Part 2\\]](2023/day/10.ipynb#----Part-Two----)|\n",
    "| [\\[Day 9: Mirage Maintenance\\]](2023/day/9.ipynb) | [\\[Part 2\\]](2023/day/9.ipynb#----Part-Two----)|\n",
    "| [\\[Day 8: Haunted Wasteland\\]](2023/day/8.ipynb) | [\\[Part 2\\]](2023/day/8.ipynb#----Part-Two----)|\n",
    "| [\\[Day 7: Camel Cards\\]](2023/day/7.ipynb) | [\\[Part 2\\]](2023/day/7.ipynb#----Part-Two----)|\n",
    "| [\\[Day 6: Wait For It\\]](2023/day/6.ipynb) | [\\[Part 2\\]](2023/day/6.ipynb#----Part-Two----)|\n",
    "| [\\[Day 5: If You Give A Seed A Fertilizer\\]](2023/day/5.ipynb) | [\\[Part 2\\]](2023/day/5.ipynb#----Part-Two----) |\n",
    "| [\\[Day 4: Scratchcards\\]](2023/day/4.ipynb) | [\\[Part 2\\]](2023/day/4.ipynb#----Part-Two----) |\n",
    "| [\\[Day 3: Gear Ratios\\]](2023/day/3.ipynb) | [\\[Part 2\\]](2023/day/3.ipynb#----Part-Two----) |\n",
    "| [\\[Day 2: Cube Conundrum\\]](2023/day/2.ipynb) | [\\[Part 2\\]](2023/day/2.ipynb#----Part-Two----) |\n",
    "| [\\[Day 1: Trebuchet?!\\]](2023/day/1.ipynb) | [\\[Part 2\\]](2023/day/1.ipynb#----Part-Two----) |"
   ]
  }
 ],
 "metadata": {
  "kernelspec": {
   "display_name": "Python 3 (ipykernel)",
   "language": "python",
   "name": "python3"
  },
  "language_info": {
   "codemirror_mode": {
    "name": "ipython",
    "version": 3
   },
   "file_extension": ".py",
   "mimetype": "text/x-python",
   "name": "python",
   "nbconvert_exporter": "python",
   "pygments_lexer": "ipython3",
   "version": "3.8.10"
  }
 },
 "nbformat": 4,
 "nbformat_minor": 5
}
