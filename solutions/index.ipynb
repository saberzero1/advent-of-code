{
 "cells": [
  {
   "cell_type": "markdown",
   "id": "4009818f-2c38-4d9a-83c7-397e14288d58",
   "metadata": {},
   "source": [
    "# --- Advent of Code ---\n",
    "\n",
    "[\\[Profile\\]](https://github.com/saberzero1) [\\[Repository\\]](https://github.com/saberzero1/advent-of-code) [\\[Advent of Code\\]](https://adventofcode.com)"
   ]
  },
  {
   "cell_type": "markdown",
   "id": "1ae9b088-9edf-4f3c-9d79-7a0a0bdf7de5",
   "metadata": {},
   "source": [
    "## --- 2023 ---\n",
    "\n",
    " - [\\[Day 4: Scratchcards\\]](2023/day/4.ipynb)\n",
    " - [\\[Day 3: Gear Ratios\\]](2023/day/3.ipynb)\n",
    " - [\\[Day 2: Cube Conundrum\\]](2023/day/2.ipynb)\n",
    " - [\\[Day 1: Trebuchet?!\\]](2023/day/1.ipynb)"
   ]
  }
 ],
 "metadata": {
  "kernelspec": {
   "display_name": "Python 3 (ipykernel)",
   "language": "python",
   "name": "python3"
  },
  "language_info": {
   "codemirror_mode": {
    "name": "ipython",
    "version": 3
   },
   "file_extension": ".py",
   "mimetype": "text/x-python",
   "name": "python",
   "nbconvert_exporter": "python",
   "pygments_lexer": "ipython3",
   "version": "3.8.10"
  }
 },
 "nbformat": 4,
 "nbformat_minor": 5
}
